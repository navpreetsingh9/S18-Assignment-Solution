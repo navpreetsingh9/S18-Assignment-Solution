{
 "cells": [
  {
   "cell_type": "code",
   "execution_count": 1,
   "metadata": {},
   "outputs": [],
   "source": [
    "import warnings\n",
    "warnings.filterwarnings('ignore')\n",
    "import torch\n",
    "torch.set_float32_matmul_precision('high')\n",
    "import torch.nn as nn\n",
    "from torch.utils.data import Dataset\n",
    "from torchvision import datasets, transforms\n",
    "from tqdm import tqdm\n",
    "import matplotlib.pyplot as plt\n",
    "\n",
    "device = \"cuda\""
   ]
  },
  {
   "cell_type": "code",
   "execution_count": 2,
   "metadata": {},
   "outputs": [],
   "source": [
    "class VAE(nn.Module):\n",
    "    \n",
    "    def __init__(self, channels, shape):\n",
    "        super(VAE, self).__init__()\n",
    "        self.w = self.h = (((shape-8)//2-4)//2)\n",
    "        # Encoder\n",
    "        self.encoder = nn.Sequential(\n",
    "            nn.Conv2d(channels, 16, kernel_size=5, padding=0), nn.BatchNorm2d(16), nn.ReLU(),\n",
    "            nn.Conv2d(16, 32, kernel_size=5, padding=0), nn.BatchNorm2d(32), nn.ReLU(),\n",
    "            nn.MaxPool2d(2, 2),\n",
    "            nn.Conv2d(32, 64, kernel_size=3, padding=0), nn.BatchNorm2d(64), nn.ReLU(),\n",
    "            nn.Conv2d(64, 128, kernel_size=3, padding=0), nn.BatchNorm2d(128), nn.ReLU(),\n",
    "            nn.MaxPool2d(2, 2),\n",
    "            nn.Flatten(),\n",
    "            nn.Linear(128 * self.w * self.h, 512),\n",
    "            nn.ReLU(),\n",
    "            nn.Linear(512, 256),\n",
    "        )\n",
    "\n",
    "        self.embedding = nn.Embedding(10, 64)\n",
    "        \n",
    "        self.fc_mu = nn.Sequential(\n",
    "            nn.Linear(320, 128)\n",
    "        )\n",
    "        self.fc_log_var = nn.Sequential(\n",
    "            nn.Linear(320, 128)\n",
    "        )\n",
    "        \n",
    "        # Decoder\n",
    "        self.decoder = nn.Sequential(\n",
    "            nn.Linear(192, 256),\n",
    "            nn.ReLU(),\n",
    "            nn.Linear(256, 512),\n",
    "            nn.ReLU(),\n",
    "            nn.Linear(512, 128 * self.w * self.h),\n",
    "            nn.ReLU(),\n",
    "        )\n",
    "        \n",
    "        self.decoder_conv = nn.Sequential(\n",
    "            nn.ConvTranspose2d(128, 128, kernel_size=2, stride=2, padding=0),\n",
    "            nn.ConvTranspose2d(128, 64, kernel_size=3, padding=0), nn.BatchNorm2d(64), nn.ReLU(),\n",
    "            nn.ConvTranspose2d(64, 32, kernel_size=3, padding=0), nn.BatchNorm2d(32), nn.ReLU(),\n",
    "            nn.ConvTranspose2d(32, 32, kernel_size=2, stride=2, padding=0),\n",
    "            nn.ConvTranspose2d(32, 16, kernel_size=5, padding=0), nn.BatchNorm2d(16), nn.ReLU(),\n",
    "            nn.ConvTranspose2d(16, channels, kernel_size=5, padding=0),\n",
    "            nn.Sigmoid()  # Output values between 0 and 1 for pixel values\n",
    "        )\n",
    "\n",
    "    def encode(self, x, y):\n",
    "        x = self.encoder(x)\n",
    "        x = torch.cat((x,y),dim=1)\n",
    "        mu = self.fc_mu(x)\n",
    "        log_var = self.fc_log_var(x)\n",
    "        return mu, log_var\n",
    "    \n",
    "    def reparameterize(self, mu, log_var):\n",
    "        std = torch.exp(0.5 * log_var)\n",
    "        eps = torch.randn_like(std)\n",
    "        z = mu + eps * std\n",
    "        return z\n",
    "    \n",
    "    def decode(self, z, y):\n",
    "        z = torch.cat((z,y),dim=1)\n",
    "        z = self.decoder(z)\n",
    "        z = self.decoder_conv(z.view(-1, 128, self.w, self.h))\n",
    "        return z\n",
    "    \n",
    "    def forward(self, x, y):\n",
    "        y = self.embedding(y)\n",
    "        mu, log_var = self.encode(x, y)\n",
    "        z = self.reparameterize(mu, log_var)\n",
    "        reconstruction = self.decode(z, y)\n",
    "        return reconstruction, mu, log_var\n",
    "        "
   ]
  },
  {
   "cell_type": "code",
   "execution_count": 3,
   "metadata": {},
   "outputs": [],
   "source": [
    "def train(model, train_set, epochs, batch_size, lr):\n",
    "    train_loader = torch.utils.data.DataLoader(train_set, batch_size=batch_size, shuffle=True)\n",
    "    optimizer = torch.optim.Adam(model.parameters(), lr=lr)\n",
    "    criterion = nn.BCELoss(reduction = \"sum\")\n",
    "\n",
    "    train_losses = []\n",
    "    \n",
    "    for epoch in range(epochs):\n",
    "        print(\"\\nEPOCH: {}\".format(epoch+1))\n",
    "        \n",
    "        model.train()\n",
    "        pbar = tqdm(train_loader)\n",
    "        train_loss = 0\n",
    "\n",
    "        for batch_idx, (data, target) in enumerate(pbar):\n",
    "\n",
    "            data, target = data.to(device), target.to(device)\n",
    "            optimizer.zero_grad()\n",
    "            \n",
    "            X_hat, mean, logvar = model(data, target)\n",
    "\n",
    "            reconstruction_loss = criterion(X_hat, data)\n",
    "            KL_divergence = 0.5 * torch.sum(-1 - logvar + torch.exp(logvar) + mean**2)\n",
    "            loss = reconstruction_loss + KL_divergence\n",
    "            train_loss += loss.item()\n",
    "\n",
    "            loss.backward()\n",
    "            optimizer.step() \n",
    "            pbar.set_description(desc= f'Loss={loss.item()/data.shape[0]} Batch_id={batch_idx}')\n",
    "        \n",
    "        train_losses.append(train_loss/len(train_loader.dataset))\n",
    "\n",
    "        print(f'\\nAverage Training Loss={train_loss/len(train_loader.dataset)}')"
   ]
  },
  {
   "cell_type": "code",
   "execution_count": 4,
   "metadata": {},
   "outputs": [],
   "source": [
    "def visualize(model, dataset, map):\n",
    "    # Set the model to evaluation mode\n",
    "    model.eval()\n",
    "\n",
    "    # Load a batch of 20 images from the CIFAR-10 dataset\n",
    "    batch_size = 25\n",
    "    sample_loader = torch.utils.data.DataLoader(dataset, batch_size=batch_size, shuffle=True)\n",
    "    sample_images, label = next(iter(sample_loader))\n",
    "\n",
    "    # Pass the images through the VAE\n",
    "    with torch.no_grad():\n",
    "        recon_images, _, _ = model(sample_images.to(device), label.to(device))\n",
    "\n",
    "    # Visualize the original and reconstructed images\n",
    "    plt.figure(figsize=(10, 20))\n",
    "    for i in range(batch_size):\n",
    "        plt.subplot(10, 5, (i//5)*10 + i%5 + 1)\n",
    "        plt.imshow(sample_images[i].permute(1, 2, 0).cpu())\n",
    "        plt.axis('off')\n",
    "        plt.title('Original')\n",
    "        \n",
    "        plt.subplot(10, 5, (i//5)*10 + i%5 + 6)\n",
    "        plt.imshow(recon_images[i].permute(1, 2, 0).cpu())\n",
    "        plt.axis('off')\n",
    "        plt.title(f'Reconstruction\\n(wrong_label={map[label[i].item()]})')\n",
    "\n",
    "    plt.tight_layout()\n",
    "    plt.show()"
   ]
  },
  {
   "cell_type": "code",
   "execution_count": 5,
   "metadata": {},
   "outputs": [],
   "source": [
    "class DataSet(Dataset):\n",
    "    def __init__(self, dataset, shape, random=False):\n",
    "        self.dataset = dataset\n",
    "        self.shape = shape\n",
    "        self.random = random\n",
    "\n",
    "    def __len__(self):\n",
    "        return len(self.dataset)\n",
    "\n",
    "    def __getitem__(self, idx):\n",
    "        image, label = self.dataset[idx]\n",
    "        new_label = label\n",
    "        if self.random:\n",
    "            while new_label==label:\n",
    "                new_label = torch.randint(10, (1,1))\n",
    "            new_label = new_label.squeeze(0).squeeze(0)\n",
    "        # one_hot = torch.nn.functional.one_hot(torch.tensor(new_label), self.shape)\n",
    "        # one_hot = one_hot.view(1, -1)\n",
    "        # one_hot_expanded = one_hot.repeat(self.shape, 1)\n",
    "        # new_image = torch.cat((image, one_hot_expanded.unsqueeze(0)), dim=0)\n",
    "        return image, new_label"
   ]
  },
  {
   "cell_type": "code",
   "execution_count": 6,
   "metadata": {},
   "outputs": [
    {
     "name": "stdout",
     "output_type": "stream",
     "text": [
      "Files already downloaded and verified\n",
      "\n",
      "EPOCH: 1\n"
     ]
    },
    {
     "name": "stderr",
     "output_type": "stream",
     "text": [
      "Loss=1934.998828125 Batch_id=390: 100%|██████████| 391/391 [00:07<00:00, 55.26it/s]    \n"
     ]
    },
    {
     "name": "stdout",
     "output_type": "stream",
     "text": [
      "\n",
      "Average Training Loss=1988.17798125\n",
      "\n",
      "EPOCH: 2\n"
     ]
    },
    {
     "name": "stderr",
     "output_type": "stream",
     "text": [
      "Loss=1908.65390625 Batch_id=390: 100%|██████████| 391/391 [00:06<00:00, 58.49it/s]     \n"
     ]
    },
    {
     "name": "stdout",
     "output_type": "stream",
     "text": [
      "\n",
      "Average Training Loss=1920.781530625\n",
      "\n",
      "EPOCH: 3\n"
     ]
    },
    {
     "name": "stderr",
     "output_type": "stream",
     "text": [
      "Loss=1907.915234375 Batch_id=390: 100%|██████████| 391/391 [00:06<00:00, 58.03it/s]    \n"
     ]
    },
    {
     "name": "stdout",
     "output_type": "stream",
     "text": [
      "\n",
      "Average Training Loss=1903.1019225\n",
      "\n",
      "EPOCH: 4\n"
     ]
    },
    {
     "name": "stderr",
     "output_type": "stream",
     "text": [
      "Loss=1873.525390625 Batch_id=390: 100%|██████████| 391/391 [00:06<00:00, 56.65it/s]    \n"
     ]
    },
    {
     "name": "stdout",
     "output_type": "stream",
     "text": [
      "\n",
      "Average Training Loss=1896.1961315625\n",
      "\n",
      "EPOCH: 5\n"
     ]
    },
    {
     "name": "stderr",
     "output_type": "stream",
     "text": [
      "Loss=1876.208203125 Batch_id=390: 100%|██████████| 391/391 [00:06<00:00, 56.84it/s]    \n"
     ]
    },
    {
     "name": "stdout",
     "output_type": "stream",
     "text": [
      "\n",
      "Average Training Loss=1886.243519375\n",
      "\n",
      "EPOCH: 6\n"
     ]
    },
    {
     "name": "stderr",
     "output_type": "stream",
     "text": [
      "Loss=1888.556640625 Batch_id=390: 100%|██████████| 391/391 [00:06<00:00, 59.62it/s]    \n"
     ]
    },
    {
     "name": "stdout",
     "output_type": "stream",
     "text": [
      "\n",
      "Average Training Loss=1880.6740025\n",
      "\n",
      "EPOCH: 7\n"
     ]
    },
    {
     "name": "stderr",
     "output_type": "stream",
     "text": [
      "Loss=1862.07421875 Batch_id=390: 100%|██████████| 391/391 [00:06<00:00, 57.12it/s]     \n"
     ]
    },
    {
     "name": "stdout",
     "output_type": "stream",
     "text": [
      "\n",
      "Average Training Loss=1874.681063125\n",
      "\n",
      "EPOCH: 8\n"
     ]
    },
    {
     "name": "stderr",
     "output_type": "stream",
     "text": [
      "Loss=1822.932421875 Batch_id=390: 100%|██████████| 391/391 [00:06<00:00, 59.97it/s]    \n"
     ]
    },
    {
     "name": "stdout",
     "output_type": "stream",
     "text": [
      "\n",
      "Average Training Loss=1871.4999234375\n",
      "\n",
      "EPOCH: 9\n"
     ]
    },
    {
     "name": "stderr",
     "output_type": "stream",
     "text": [
      "Loss=1871.1966796875 Batch_id=390: 100%|██████████| 391/391 [00:06<00:00, 55.91it/s]   \n"
     ]
    },
    {
     "name": "stdout",
     "output_type": "stream",
     "text": [
      "\n",
      "Average Training Loss=1868.6527896875\n",
      "\n",
      "EPOCH: 10\n"
     ]
    },
    {
     "name": "stderr",
     "output_type": "stream",
     "text": [
      "Loss=1869.3720703125 Batch_id=390: 100%|██████████| 391/391 [00:06<00:00, 57.67it/s]   \n"
     ]
    },
    {
     "name": "stdout",
     "output_type": "stream",
     "text": [
      "\n",
      "Average Training Loss=1867.4475415625\n",
      "\n",
      "EPOCH: 11\n"
     ]
    },
    {
     "name": "stderr",
     "output_type": "stream",
     "text": [
      "Loss=1876.8685546875 Batch_id=390: 100%|██████████| 391/391 [00:06<00:00, 57.08it/s]   \n"
     ]
    },
    {
     "name": "stdout",
     "output_type": "stream",
     "text": [
      "\n",
      "Average Training Loss=1865.5013721875\n",
      "\n",
      "EPOCH: 12\n"
     ]
    },
    {
     "name": "stderr",
     "output_type": "stream",
     "text": [
      "Loss=1845.9751953125 Batch_id=390: 100%|██████████| 391/391 [00:06<00:00, 57.45it/s]   \n"
     ]
    },
    {
     "name": "stdout",
     "output_type": "stream",
     "text": [
      "\n",
      "Average Training Loss=1864.116370625\n",
      "\n",
      "EPOCH: 13\n"
     ]
    },
    {
     "name": "stderr",
     "output_type": "stream",
     "text": [
      "Loss=1887.244140625 Batch_id=390: 100%|██████████| 391/391 [00:06<00:00, 56.78it/s]    \n"
     ]
    },
    {
     "name": "stdout",
     "output_type": "stream",
     "text": [
      "\n",
      "Average Training Loss=1862.9836759375\n",
      "\n",
      "EPOCH: 14\n"
     ]
    },
    {
     "name": "stderr",
     "output_type": "stream",
     "text": [
      "Loss=1871.609765625 Batch_id=390: 100%|██████████| 391/391 [00:06<00:00, 57.90it/s]    \n"
     ]
    },
    {
     "name": "stdout",
     "output_type": "stream",
     "text": [
      "\n",
      "Average Training Loss=1861.529725\n",
      "\n",
      "EPOCH: 15\n"
     ]
    },
    {
     "name": "stderr",
     "output_type": "stream",
     "text": [
      "Loss=1895.251171875 Batch_id=390: 100%|██████████| 391/391 [00:06<00:00, 56.80it/s]    \n"
     ]
    },
    {
     "name": "stdout",
     "output_type": "stream",
     "text": [
      "\n",
      "Average Training Loss=1860.6202609375\n",
      "\n",
      "EPOCH: 16\n"
     ]
    },
    {
     "name": "stderr",
     "output_type": "stream",
     "text": [
      "Loss=1874.1576171875 Batch_id=390: 100%|██████████| 391/391 [00:06<00:00, 57.52it/s]   \n"
     ]
    },
    {
     "name": "stdout",
     "output_type": "stream",
     "text": [
      "\n",
      "Average Training Loss=1860.1035503125\n",
      "\n",
      "EPOCH: 17\n"
     ]
    },
    {
     "name": "stderr",
     "output_type": "stream",
     "text": [
      "Loss=1860.3392578125 Batch_id=390: 100%|██████████| 391/391 [00:06<00:00, 57.03it/s]   \n"
     ]
    },
    {
     "name": "stdout",
     "output_type": "stream",
     "text": [
      "\n",
      "Average Training Loss=1859.253258125\n",
      "\n",
      "EPOCH: 18\n"
     ]
    },
    {
     "name": "stderr",
     "output_type": "stream",
     "text": [
      "Loss=1891.019921875 Batch_id=390: 100%|██████████| 391/391 [00:06<00:00, 57.37it/s]    \n"
     ]
    },
    {
     "name": "stdout",
     "output_type": "stream",
     "text": [
      "\n",
      "Average Training Loss=1859.216834375\n",
      "\n",
      "EPOCH: 19\n"
     ]
    },
    {
     "name": "stderr",
     "output_type": "stream",
     "text": [
      "Loss=1825.5474609375 Batch_id=390: 100%|██████████| 391/391 [00:06<00:00, 56.77it/s]   \n"
     ]
    },
    {
     "name": "stdout",
     "output_type": "stream",
     "text": [
      "\n",
      "Average Training Loss=1858.6181359375\n",
      "\n",
      "EPOCH: 20\n"
     ]
    },
    {
     "name": "stderr",
     "output_type": "stream",
     "text": [
      "Loss=1829.0748046875 Batch_id=390: 100%|██████████| 391/391 [00:06<00:00, 57.63it/s]   \n"
     ]
    },
    {
     "name": "stdout",
     "output_type": "stream",
     "text": [
      "\n",
      "Average Training Loss=1858.325131875\n",
      "\n",
      "EPOCH: 21\n"
     ]
    },
    {
     "name": "stderr",
     "output_type": "stream",
     "text": [
      "Loss=1867.421875 Batch_id=390: 100%|██████████| 391/391 [00:06<00:00, 57.31it/s]       \n"
     ]
    },
    {
     "name": "stdout",
     "output_type": "stream",
     "text": [
      "\n",
      "Average Training Loss=1857.402486875\n",
      "\n",
      "EPOCH: 22\n"
     ]
    },
    {
     "name": "stderr",
     "output_type": "stream",
     "text": [
      "Loss=1816.2361328125 Batch_id=390: 100%|██████████| 391/391 [00:06<00:00, 57.58it/s]   \n"
     ]
    },
    {
     "name": "stdout",
     "output_type": "stream",
     "text": [
      "\n",
      "Average Training Loss=1856.9778578125\n",
      "\n",
      "EPOCH: 23\n"
     ]
    },
    {
     "name": "stderr",
     "output_type": "stream",
     "text": [
      "Loss=1851.2140625 Batch_id=390: 100%|██████████| 391/391 [00:06<00:00, 57.21it/s]      \n"
     ]
    },
    {
     "name": "stdout",
     "output_type": "stream",
     "text": [
      "\n",
      "Average Training Loss=1856.635756875\n",
      "\n",
      "EPOCH: 24\n"
     ]
    },
    {
     "name": "stderr",
     "output_type": "stream",
     "text": [
      "Loss=1837.0955078125 Batch_id=390: 100%|██████████| 391/391 [00:06<00:00, 57.49it/s]   \n"
     ]
    },
    {
     "name": "stdout",
     "output_type": "stream",
     "text": [
      "\n",
      "Average Training Loss=1856.22319375\n",
      "\n",
      "EPOCH: 25\n"
     ]
    },
    {
     "name": "stderr",
     "output_type": "stream",
     "text": [
      "Loss=1797.04453125 Batch_id=390: 100%|██████████| 391/391 [00:06<00:00, 57.71it/s]     \n"
     ]
    },
    {
     "name": "stdout",
     "output_type": "stream",
     "text": [
      "\n",
      "Average Training Loss=1855.96778625\n",
      "\n",
      "EPOCH: 26\n"
     ]
    },
    {
     "name": "stderr",
     "output_type": "stream",
     "text": [
      "Loss=1906.9125 Batch_id=390: 100%|██████████| 391/391 [00:06<00:00, 57.09it/s]         \n"
     ]
    },
    {
     "name": "stdout",
     "output_type": "stream",
     "text": [
      "\n",
      "Average Training Loss=1855.79722\n",
      "\n",
      "EPOCH: 27\n"
     ]
    },
    {
     "name": "stderr",
     "output_type": "stream",
     "text": [
      "Loss=1830.830859375 Batch_id=390: 100%|██████████| 391/391 [00:06<00:00, 56.80it/s]    \n"
     ]
    },
    {
     "name": "stdout",
     "output_type": "stream",
     "text": [
      "\n",
      "Average Training Loss=1855.417946875\n",
      "\n",
      "EPOCH: 28\n"
     ]
    },
    {
     "name": "stderr",
     "output_type": "stream",
     "text": [
      "Loss=1864.93828125 Batch_id=390: 100%|██████████| 391/391 [00:06<00:00, 56.89it/s]     \n"
     ]
    },
    {
     "name": "stdout",
     "output_type": "stream",
     "text": [
      "\n",
      "Average Training Loss=1855.223740625\n",
      "\n",
      "EPOCH: 29\n"
     ]
    },
    {
     "name": "stderr",
     "output_type": "stream",
     "text": [
      "Loss=1851.14296875 Batch_id=390: 100%|██████████| 391/391 [00:06<00:00, 57.48it/s]     \n"
     ]
    },
    {
     "name": "stdout",
     "output_type": "stream",
     "text": [
      "\n",
      "Average Training Loss=1854.8654934375\n",
      "\n",
      "EPOCH: 30\n"
     ]
    },
    {
     "name": "stderr",
     "output_type": "stream",
     "text": [
      "Loss=1847.75546875 Batch_id=390: 100%|██████████| 391/391 [00:06<00:00, 57.27it/s]     \n"
     ]
    },
    {
     "name": "stdout",
     "output_type": "stream",
     "text": [
      "\n",
      "Average Training Loss=1854.0224209375\n",
      "\n",
      "EPOCH: 31\n"
     ]
    },
    {
     "name": "stderr",
     "output_type": "stream",
     "text": [
      "Loss=1855.7875 Batch_id=390: 100%|██████████| 391/391 [00:06<00:00, 56.71it/s]         \n"
     ]
    },
    {
     "name": "stdout",
     "output_type": "stream",
     "text": [
      "\n",
      "Average Training Loss=1854.415421875\n",
      "\n",
      "EPOCH: 32\n"
     ]
    },
    {
     "name": "stderr",
     "output_type": "stream",
     "text": [
      "Loss=1871.7244140625 Batch_id=390: 100%|██████████| 391/391 [00:06<00:00, 57.05it/s]   \n"
     ]
    },
    {
     "name": "stdout",
     "output_type": "stream",
     "text": [
      "\n",
      "Average Training Loss=1853.6848653125\n",
      "\n",
      "EPOCH: 33\n"
     ]
    },
    {
     "name": "stderr",
     "output_type": "stream",
     "text": [
      "Loss=1804.7185546875 Batch_id=390: 100%|██████████| 391/391 [00:06<00:00, 57.09it/s]   \n"
     ]
    },
    {
     "name": "stdout",
     "output_type": "stream",
     "text": [
      "\n",
      "Average Training Loss=1853.4170521875\n",
      "\n",
      "EPOCH: 34\n"
     ]
    },
    {
     "name": "stderr",
     "output_type": "stream",
     "text": [
      "Loss=1803.8138671875 Batch_id=390: 100%|██████████| 391/391 [00:06<00:00, 57.27it/s]   \n"
     ]
    },
    {
     "name": "stdout",
     "output_type": "stream",
     "text": [
      "\n",
      "Average Training Loss=1853.1159821875\n",
      "\n",
      "EPOCH: 35\n"
     ]
    },
    {
     "name": "stderr",
     "output_type": "stream",
     "text": [
      "Loss=1837.74609375 Batch_id=390: 100%|██████████| 391/391 [00:06<00:00, 57.06it/s]     \n"
     ]
    },
    {
     "name": "stdout",
     "output_type": "stream",
     "text": [
      "\n",
      "Average Training Loss=1852.6999634375\n",
      "\n",
      "EPOCH: 36\n"
     ]
    },
    {
     "name": "stderr",
     "output_type": "stream",
     "text": [
      "Loss=1874.922265625 Batch_id=390: 100%|██████████| 391/391 [00:06<00:00, 56.99it/s]    \n"
     ]
    },
    {
     "name": "stdout",
     "output_type": "stream",
     "text": [
      "\n",
      "Average Training Loss=1852.4574115625\n",
      "\n",
      "EPOCH: 37\n"
     ]
    },
    {
     "name": "stderr",
     "output_type": "stream",
     "text": [
      "Loss=1844.1966796875 Batch_id=390: 100%|██████████| 391/391 [00:06<00:00, 56.80it/s]   \n"
     ]
    },
    {
     "name": "stdout",
     "output_type": "stream",
     "text": [
      "\n",
      "Average Training Loss=1852.197573125\n",
      "\n",
      "EPOCH: 38\n"
     ]
    },
    {
     "name": "stderr",
     "output_type": "stream",
     "text": [
      "Loss=1833.473828125 Batch_id=390: 100%|██████████| 391/391 [00:06<00:00, 57.51it/s]    \n"
     ]
    },
    {
     "name": "stdout",
     "output_type": "stream",
     "text": [
      "\n",
      "Average Training Loss=1851.6310175\n",
      "\n",
      "EPOCH: 39\n"
     ]
    },
    {
     "name": "stderr",
     "output_type": "stream",
     "text": [
      "Loss=1862.546875 Batch_id=390: 100%|██████████| 391/391 [00:06<00:00, 56.34it/s]       \n"
     ]
    },
    {
     "name": "stdout",
     "output_type": "stream",
     "text": [
      "\n",
      "Average Training Loss=1851.2685440625\n",
      "\n",
      "EPOCH: 40\n"
     ]
    },
    {
     "name": "stderr",
     "output_type": "stream",
     "text": [
      "Loss=1881.498828125 Batch_id=390: 100%|██████████| 391/391 [00:06<00:00, 56.46it/s]    \n"
     ]
    },
    {
     "name": "stdout",
     "output_type": "stream",
     "text": [
      "\n",
      "Average Training Loss=1851.391465\n",
      "\n",
      "EPOCH: 41\n"
     ]
    },
    {
     "name": "stderr",
     "output_type": "stream",
     "text": [
      "Loss=1849.5095703125 Batch_id=390: 100%|██████████| 391/391 [00:06<00:00, 56.96it/s]   \n"
     ]
    },
    {
     "name": "stdout",
     "output_type": "stream",
     "text": [
      "\n",
      "Average Training Loss=1850.8921153125\n",
      "\n",
      "EPOCH: 42\n"
     ]
    },
    {
     "name": "stderr",
     "output_type": "stream",
     "text": [
      "Loss=1825.550390625 Batch_id=390: 100%|██████████| 391/391 [00:06<00:00, 57.19it/s]    \n"
     ]
    },
    {
     "name": "stdout",
     "output_type": "stream",
     "text": [
      "\n",
      "Average Training Loss=1851.01996625\n",
      "\n",
      "EPOCH: 43\n"
     ]
    },
    {
     "name": "stderr",
     "output_type": "stream",
     "text": [
      "Loss=1842.45390625 Batch_id=390: 100%|██████████| 391/391 [00:06<00:00, 57.84it/s]     \n"
     ]
    },
    {
     "name": "stdout",
     "output_type": "stream",
     "text": [
      "\n",
      "Average Training Loss=1850.580150625\n",
      "\n",
      "EPOCH: 44\n"
     ]
    },
    {
     "name": "stderr",
     "output_type": "stream",
     "text": [
      "Loss=1855.7958984375 Batch_id=390: 100%|██████████| 391/391 [00:07<00:00, 52.06it/s]   \n"
     ]
    },
    {
     "name": "stdout",
     "output_type": "stream",
     "text": [
      "\n",
      "Average Training Loss=1850.3500715625\n",
      "\n",
      "EPOCH: 45\n"
     ]
    },
    {
     "name": "stderr",
     "output_type": "stream",
     "text": [
      "Loss=1871.7623046875 Batch_id=390: 100%|██████████| 391/391 [00:07<00:00, 54.58it/s]   \n"
     ]
    },
    {
     "name": "stdout",
     "output_type": "stream",
     "text": [
      "\n",
      "Average Training Loss=1850.107919375\n",
      "\n",
      "EPOCH: 46\n"
     ]
    },
    {
     "name": "stderr",
     "output_type": "stream",
     "text": [
      "Loss=1836.857421875 Batch_id=390: 100%|██████████| 391/391 [00:07<00:00, 54.61it/s]    \n"
     ]
    },
    {
     "name": "stdout",
     "output_type": "stream",
     "text": [
      "\n",
      "Average Training Loss=1849.9704575\n",
      "\n",
      "EPOCH: 47\n"
     ]
    },
    {
     "name": "stderr",
     "output_type": "stream",
     "text": [
      "Loss=1882.7453125 Batch_id=390: 100%|██████████| 391/391 [00:07<00:00, 54.26it/s]      \n"
     ]
    },
    {
     "name": "stdout",
     "output_type": "stream",
     "text": [
      "\n",
      "Average Training Loss=1849.6905046875\n",
      "\n",
      "EPOCH: 48\n"
     ]
    },
    {
     "name": "stderr",
     "output_type": "stream",
     "text": [
      "Loss=1810.40234375 Batch_id=390: 100%|██████████| 391/391 [00:07<00:00, 51.95it/s]     \n"
     ]
    },
    {
     "name": "stdout",
     "output_type": "stream",
     "text": [
      "\n",
      "Average Training Loss=1849.3312453125\n",
      "\n",
      "EPOCH: 49\n"
     ]
    },
    {
     "name": "stderr",
     "output_type": "stream",
     "text": [
      "Loss=1856.7470703125 Batch_id=390: 100%|██████████| 391/391 [00:07<00:00, 54.43it/s]   \n"
     ]
    },
    {
     "name": "stdout",
     "output_type": "stream",
     "text": [
      "\n",
      "Average Training Loss=1849.1219090625\n",
      "\n",
      "EPOCH: 50\n"
     ]
    },
    {
     "name": "stderr",
     "output_type": "stream",
     "text": [
      "Loss=1890.3138671875 Batch_id=390: 100%|██████████| 391/391 [00:07<00:00, 55.32it/s]   \n"
     ]
    },
    {
     "name": "stdout",
     "output_type": "stream",
     "text": [
      "\n",
      "Average Training Loss=1848.5252190625\n",
      "\n",
      "EPOCH: 51\n"
     ]
    },
    {
     "name": "stderr",
     "output_type": "stream",
     "text": [
      "Loss=1825.50390625 Batch_id=390: 100%|██████████| 391/391 [00:07<00:00, 55.51it/s]     \n"
     ]
    },
    {
     "name": "stdout",
     "output_type": "stream",
     "text": [
      "\n",
      "Average Training Loss=1848.243598125\n",
      "\n",
      "EPOCH: 52\n"
     ]
    },
    {
     "name": "stderr",
     "output_type": "stream",
     "text": [
      "Loss=1860.766015625 Batch_id=390: 100%|██████████| 391/391 [00:07<00:00, 54.95it/s]    \n"
     ]
    },
    {
     "name": "stdout",
     "output_type": "stream",
     "text": [
      "\n",
      "Average Training Loss=1848.3341634375\n",
      "\n",
      "EPOCH: 53\n"
     ]
    },
    {
     "name": "stderr",
     "output_type": "stream",
     "text": [
      "Loss=1808.06171875 Batch_id=390: 100%|██████████| 391/391 [00:06<00:00, 55.97it/s]     \n"
     ]
    },
    {
     "name": "stdout",
     "output_type": "stream",
     "text": [
      "\n",
      "Average Training Loss=1847.976194375\n",
      "\n",
      "EPOCH: 54\n"
     ]
    },
    {
     "name": "stderr",
     "output_type": "stream",
     "text": [
      "Loss=1882.4052734375 Batch_id=390: 100%|██████████| 391/391 [00:06<00:00, 56.88it/s]   \n"
     ]
    },
    {
     "name": "stdout",
     "output_type": "stream",
     "text": [
      "\n",
      "Average Training Loss=1847.9193278125\n",
      "\n",
      "EPOCH: 55\n"
     ]
    },
    {
     "name": "stderr",
     "output_type": "stream",
     "text": [
      "Loss=1876.149609375 Batch_id=390: 100%|██████████| 391/391 [00:06<00:00, 57.16it/s]    \n"
     ]
    },
    {
     "name": "stdout",
     "output_type": "stream",
     "text": [
      "\n",
      "Average Training Loss=1847.3951046875\n",
      "\n",
      "EPOCH: 56\n"
     ]
    },
    {
     "name": "stderr",
     "output_type": "stream",
     "text": [
      "Loss=1823.9943359375 Batch_id=390: 100%|██████████| 391/391 [00:06<00:00, 56.95it/s]   \n"
     ]
    },
    {
     "name": "stdout",
     "output_type": "stream",
     "text": [
      "\n",
      "Average Training Loss=1847.1605475\n",
      "\n",
      "EPOCH: 57\n"
     ]
    },
    {
     "name": "stderr",
     "output_type": "stream",
     "text": [
      "Loss=1865.6642578125 Batch_id=390: 100%|██████████| 391/391 [00:06<00:00, 56.37it/s]   \n"
     ]
    },
    {
     "name": "stdout",
     "output_type": "stream",
     "text": [
      "\n",
      "Average Training Loss=1847.01008625\n",
      "\n",
      "EPOCH: 58\n"
     ]
    },
    {
     "name": "stderr",
     "output_type": "stream",
     "text": [
      "Loss=1851.26484375 Batch_id=390: 100%|██████████| 391/391 [00:06<00:00, 56.79it/s]     \n"
     ]
    },
    {
     "name": "stdout",
     "output_type": "stream",
     "text": [
      "\n",
      "Average Training Loss=1846.64666625\n",
      "\n",
      "EPOCH: 59\n"
     ]
    },
    {
     "name": "stderr",
     "output_type": "stream",
     "text": [
      "Loss=1777.2603515625 Batch_id=390: 100%|██████████| 391/391 [00:06<00:00, 56.93it/s]   \n"
     ]
    },
    {
     "name": "stdout",
     "output_type": "stream",
     "text": [
      "\n",
      "Average Training Loss=1846.3502734375\n",
      "\n",
      "EPOCH: 60\n"
     ]
    },
    {
     "name": "stderr",
     "output_type": "stream",
     "text": [
      "Loss=1849.318359375 Batch_id=390: 100%|██████████| 391/391 [00:06<00:00, 56.38it/s]    \n"
     ]
    },
    {
     "name": "stdout",
     "output_type": "stream",
     "text": [
      "\n",
      "Average Training Loss=1846.4290159375\n",
      "\n",
      "EPOCH: 61\n"
     ]
    },
    {
     "name": "stderr",
     "output_type": "stream",
     "text": [
      "Loss=1849.3736328125 Batch_id=390: 100%|██████████| 391/391 [00:06<00:00, 56.39it/s]   \n"
     ]
    },
    {
     "name": "stdout",
     "output_type": "stream",
     "text": [
      "\n",
      "Average Training Loss=1846.100213125\n",
      "\n",
      "EPOCH: 62\n"
     ]
    },
    {
     "name": "stderr",
     "output_type": "stream",
     "text": [
      "Loss=1868.5517578125 Batch_id=390: 100%|██████████| 391/391 [00:06<00:00, 56.25it/s]   \n"
     ]
    },
    {
     "name": "stdout",
     "output_type": "stream",
     "text": [
      "\n",
      "Average Training Loss=1845.7759659375\n",
      "\n",
      "EPOCH: 63\n"
     ]
    },
    {
     "name": "stderr",
     "output_type": "stream",
     "text": [
      "Loss=1838.4359375 Batch_id=390: 100%|██████████| 391/391 [00:06<00:00, 56.65it/s]      \n"
     ]
    },
    {
     "name": "stdout",
     "output_type": "stream",
     "text": [
      "\n",
      "Average Training Loss=1845.5847471875\n",
      "\n",
      "EPOCH: 64\n"
     ]
    },
    {
     "name": "stderr",
     "output_type": "stream",
     "text": [
      "Loss=1877.275 Batch_id=390: 100%|██████████| 391/391 [00:06<00:00, 56.01it/s]          \n"
     ]
    },
    {
     "name": "stdout",
     "output_type": "stream",
     "text": [
      "\n",
      "Average Training Loss=1845.5240246875\n",
      "\n",
      "EPOCH: 65\n"
     ]
    },
    {
     "name": "stderr",
     "output_type": "stream",
     "text": [
      "Loss=1864.7458984375 Batch_id=390: 100%|██████████| 391/391 [00:06<00:00, 56.23it/s]   \n"
     ]
    },
    {
     "name": "stdout",
     "output_type": "stream",
     "text": [
      "\n",
      "Average Training Loss=1845.3532790625\n",
      "\n",
      "EPOCH: 66\n"
     ]
    },
    {
     "name": "stderr",
     "output_type": "stream",
     "text": [
      "Loss=1856.8634765625 Batch_id=390: 100%|██████████| 391/391 [00:07<00:00, 55.75it/s]   \n"
     ]
    },
    {
     "name": "stdout",
     "output_type": "stream",
     "text": [
      "\n",
      "Average Training Loss=1845.044373125\n",
      "\n",
      "EPOCH: 67\n"
     ]
    },
    {
     "name": "stderr",
     "output_type": "stream",
     "text": [
      "Loss=1835.333984375 Batch_id=390: 100%|██████████| 391/391 [00:06<00:00, 56.66it/s]    \n"
     ]
    },
    {
     "name": "stdout",
     "output_type": "stream",
     "text": [
      "\n",
      "Average Training Loss=1844.8418940625\n",
      "\n",
      "EPOCH: 68\n"
     ]
    },
    {
     "name": "stderr",
     "output_type": "stream",
     "text": [
      "Loss=1813.6669921875 Batch_id=390: 100%|██████████| 391/391 [00:06<00:00, 56.84it/s]   \n"
     ]
    },
    {
     "name": "stdout",
     "output_type": "stream",
     "text": [
      "\n",
      "Average Training Loss=1844.493270625\n",
      "\n",
      "EPOCH: 69\n"
     ]
    },
    {
     "name": "stderr",
     "output_type": "stream",
     "text": [
      "Loss=1859.112109375 Batch_id=390: 100%|██████████| 391/391 [00:07<00:00, 55.49it/s]    \n"
     ]
    },
    {
     "name": "stdout",
     "output_type": "stream",
     "text": [
      "\n",
      "Average Training Loss=1844.6249434375\n",
      "\n",
      "EPOCH: 70\n"
     ]
    },
    {
     "name": "stderr",
     "output_type": "stream",
     "text": [
      "Loss=1865.3875 Batch_id=390: 100%|██████████| 391/391 [00:07<00:00, 55.46it/s]         \n"
     ]
    },
    {
     "name": "stdout",
     "output_type": "stream",
     "text": [
      "\n",
      "Average Training Loss=1844.2601571875\n",
      "\n",
      "EPOCH: 71\n"
     ]
    },
    {
     "name": "stderr",
     "output_type": "stream",
     "text": [
      "Loss=1832.915234375 Batch_id=390: 100%|██████████| 391/391 [00:07<00:00, 51.75it/s]    \n"
     ]
    },
    {
     "name": "stdout",
     "output_type": "stream",
     "text": [
      "\n",
      "Average Training Loss=1843.808130625\n",
      "\n",
      "EPOCH: 72\n"
     ]
    },
    {
     "name": "stderr",
     "output_type": "stream",
     "text": [
      "Loss=1879.3982421875 Batch_id=390: 100%|██████████| 391/391 [00:07<00:00, 52.56it/s]   \n"
     ]
    },
    {
     "name": "stdout",
     "output_type": "stream",
     "text": [
      "\n",
      "Average Training Loss=1843.7415403125\n",
      "\n",
      "EPOCH: 73\n"
     ]
    },
    {
     "name": "stderr",
     "output_type": "stream",
     "text": [
      "Loss=1875.0861328125 Batch_id=390: 100%|██████████| 391/391 [00:07<00:00, 54.66it/s]   \n"
     ]
    },
    {
     "name": "stdout",
     "output_type": "stream",
     "text": [
      "\n",
      "Average Training Loss=1843.63674125\n",
      "\n",
      "EPOCH: 74\n"
     ]
    },
    {
     "name": "stderr",
     "output_type": "stream",
     "text": [
      "Loss=1832.258203125 Batch_id=390: 100%|██████████| 391/391 [00:06<00:00, 55.89it/s]    \n"
     ]
    },
    {
     "name": "stdout",
     "output_type": "stream",
     "text": [
      "\n",
      "Average Training Loss=1843.2993296875\n",
      "\n",
      "EPOCH: 75\n"
     ]
    },
    {
     "name": "stderr",
     "output_type": "stream",
     "text": [
      "Loss=1893.7748046875 Batch_id=390: 100%|██████████| 391/391 [00:06<00:00, 56.55it/s]   \n"
     ]
    },
    {
     "name": "stdout",
     "output_type": "stream",
     "text": [
      "\n",
      "Average Training Loss=1843.1039403125\n",
      "\n",
      "EPOCH: 76\n"
     ]
    },
    {
     "name": "stderr",
     "output_type": "stream",
     "text": [
      "Loss=1816.6828125 Batch_id=390: 100%|██████████| 391/391 [00:07<00:00, 55.82it/s]      \n"
     ]
    },
    {
     "name": "stdout",
     "output_type": "stream",
     "text": [
      "\n",
      "Average Training Loss=1843.065696875\n",
      "\n",
      "EPOCH: 77\n"
     ]
    },
    {
     "name": "stderr",
     "output_type": "stream",
     "text": [
      "Loss=1842.9060546875 Batch_id=390: 100%|██████████| 391/391 [00:07<00:00, 54.79it/s]   \n"
     ]
    },
    {
     "name": "stdout",
     "output_type": "stream",
     "text": [
      "\n",
      "Average Training Loss=1842.754901875\n",
      "\n",
      "EPOCH: 78\n"
     ]
    },
    {
     "name": "stderr",
     "output_type": "stream",
     "text": [
      "Loss=1873.734375 Batch_id=390: 100%|██████████| 391/391 [00:07<00:00, 55.50it/s]       \n"
     ]
    },
    {
     "name": "stdout",
     "output_type": "stream",
     "text": [
      "\n",
      "Average Training Loss=1842.494598125\n",
      "\n",
      "EPOCH: 79\n"
     ]
    },
    {
     "name": "stderr",
     "output_type": "stream",
     "text": [
      "Loss=1844.848046875 Batch_id=390: 100%|██████████| 391/391 [00:07<00:00, 55.28it/s]    \n"
     ]
    },
    {
     "name": "stdout",
     "output_type": "stream",
     "text": [
      "\n",
      "Average Training Loss=1842.4456646875\n",
      "\n",
      "EPOCH: 80\n"
     ]
    },
    {
     "name": "stderr",
     "output_type": "stream",
     "text": [
      "Loss=1831.748046875 Batch_id=390: 100%|██████████| 391/391 [00:07<00:00, 55.41it/s]    \n"
     ]
    },
    {
     "name": "stdout",
     "output_type": "stream",
     "text": [
      "\n",
      "Average Training Loss=1842.369505\n",
      "\n",
      "EPOCH: 81\n"
     ]
    },
    {
     "name": "stderr",
     "output_type": "stream",
     "text": [
      "Loss=1811.06484375 Batch_id=390: 100%|██████████| 391/391 [00:07<00:00, 55.69it/s]     \n"
     ]
    },
    {
     "name": "stdout",
     "output_type": "stream",
     "text": [
      "\n",
      "Average Training Loss=1842.2136140625\n",
      "\n",
      "EPOCH: 82\n"
     ]
    },
    {
     "name": "stderr",
     "output_type": "stream",
     "text": [
      "Loss=1873.4201171875 Batch_id=390: 100%|██████████| 391/391 [00:07<00:00, 55.43it/s]   \n"
     ]
    },
    {
     "name": "stdout",
     "output_type": "stream",
     "text": [
      "\n",
      "Average Training Loss=1841.598926875\n",
      "\n",
      "EPOCH: 83\n"
     ]
    },
    {
     "name": "stderr",
     "output_type": "stream",
     "text": [
      "Loss=1871.0458984375 Batch_id=390: 100%|██████████| 391/391 [00:07<00:00, 55.60it/s]   \n"
     ]
    },
    {
     "name": "stdout",
     "output_type": "stream",
     "text": [
      "\n",
      "Average Training Loss=1841.63700125\n",
      "\n",
      "EPOCH: 84\n"
     ]
    },
    {
     "name": "stderr",
     "output_type": "stream",
     "text": [
      "Loss=1811.621875 Batch_id=390: 100%|██████████| 391/391 [00:07<00:00, 55.80it/s]       \n"
     ]
    },
    {
     "name": "stdout",
     "output_type": "stream",
     "text": [
      "\n",
      "Average Training Loss=1841.6115946875\n",
      "\n",
      "EPOCH: 85\n"
     ]
    },
    {
     "name": "stderr",
     "output_type": "stream",
     "text": [
      "Loss=1839.501953125 Batch_id=390: 100%|██████████| 391/391 [00:07<00:00, 55.78it/s]    \n"
     ]
    },
    {
     "name": "stdout",
     "output_type": "stream",
     "text": [
      "\n",
      "Average Training Loss=1841.1645778125\n",
      "\n",
      "EPOCH: 86\n"
     ]
    },
    {
     "name": "stderr",
     "output_type": "stream",
     "text": [
      "Loss=1859.96796875 Batch_id=390: 100%|██████████| 391/391 [00:07<00:00, 54.58it/s]     \n"
     ]
    },
    {
     "name": "stdout",
     "output_type": "stream",
     "text": [
      "\n",
      "Average Training Loss=1841.08932125\n",
      "\n",
      "EPOCH: 87\n"
     ]
    },
    {
     "name": "stderr",
     "output_type": "stream",
     "text": [
      "Loss=1843.0880859375 Batch_id=390: 100%|██████████| 391/391 [00:07<00:00, 55.39it/s]   \n"
     ]
    },
    {
     "name": "stdout",
     "output_type": "stream",
     "text": [
      "\n",
      "Average Training Loss=1840.803994375\n",
      "\n",
      "EPOCH: 88\n"
     ]
    },
    {
     "name": "stderr",
     "output_type": "stream",
     "text": [
      "Loss=1872.201171875 Batch_id=390: 100%|██████████| 391/391 [00:07<00:00, 55.19it/s]    \n"
     ]
    },
    {
     "name": "stdout",
     "output_type": "stream",
     "text": [
      "\n",
      "Average Training Loss=1840.7846853125\n",
      "\n",
      "EPOCH: 89\n"
     ]
    },
    {
     "name": "stderr",
     "output_type": "stream",
     "text": [
      "Loss=1818.1658203125 Batch_id=390: 100%|██████████| 391/391 [00:07<00:00, 55.42it/s]   \n"
     ]
    },
    {
     "name": "stdout",
     "output_type": "stream",
     "text": [
      "\n",
      "Average Training Loss=1840.7744565625\n",
      "\n",
      "EPOCH: 90\n"
     ]
    },
    {
     "name": "stderr",
     "output_type": "stream",
     "text": [
      "Loss=1791.5095703125 Batch_id=390: 100%|██████████| 391/391 [00:07<00:00, 55.26it/s]   \n"
     ]
    },
    {
     "name": "stdout",
     "output_type": "stream",
     "text": [
      "\n",
      "Average Training Loss=1840.3264340625\n",
      "\n",
      "EPOCH: 91\n"
     ]
    },
    {
     "name": "stderr",
     "output_type": "stream",
     "text": [
      "Loss=1854.8953125 Batch_id=390: 100%|██████████| 391/391 [00:07<00:00, 54.59it/s]      \n"
     ]
    },
    {
     "name": "stdout",
     "output_type": "stream",
     "text": [
      "\n",
      "Average Training Loss=1840.536048125\n",
      "\n",
      "EPOCH: 92\n"
     ]
    },
    {
     "name": "stderr",
     "output_type": "stream",
     "text": [
      "Loss=1849.6767578125 Batch_id=390: 100%|██████████| 391/391 [00:07<00:00, 55.47it/s]   \n"
     ]
    },
    {
     "name": "stdout",
     "output_type": "stream",
     "text": [
      "\n",
      "Average Training Loss=1840.26928625\n",
      "\n",
      "EPOCH: 93\n"
     ]
    },
    {
     "name": "stderr",
     "output_type": "stream",
     "text": [
      "Loss=1875.2376953125 Batch_id=390: 100%|██████████| 391/391 [00:07<00:00, 55.70it/s]   \n"
     ]
    },
    {
     "name": "stdout",
     "output_type": "stream",
     "text": [
      "\n",
      "Average Training Loss=1840.0356203125\n",
      "\n",
      "EPOCH: 94\n"
     ]
    },
    {
     "name": "stderr",
     "output_type": "stream",
     "text": [
      "Loss=1863.04375 Batch_id=390: 100%|██████████| 391/391 [00:07<00:00, 54.53it/s]        \n"
     ]
    },
    {
     "name": "stdout",
     "output_type": "stream",
     "text": [
      "\n",
      "Average Training Loss=1839.551486875\n",
      "\n",
      "EPOCH: 95\n"
     ]
    },
    {
     "name": "stderr",
     "output_type": "stream",
     "text": [
      "Loss=1876.5455078125 Batch_id=390: 100%|██████████| 391/391 [00:07<00:00, 54.13it/s]   \n"
     ]
    },
    {
     "name": "stdout",
     "output_type": "stream",
     "text": [
      "\n",
      "Average Training Loss=1839.8334903125\n",
      "\n",
      "EPOCH: 96\n"
     ]
    },
    {
     "name": "stderr",
     "output_type": "stream",
     "text": [
      "Loss=1804.47578125 Batch_id=390: 100%|██████████| 391/391 [00:07<00:00, 54.62it/s]     \n"
     ]
    },
    {
     "name": "stdout",
     "output_type": "stream",
     "text": [
      "\n",
      "Average Training Loss=1839.3951684375\n",
      "\n",
      "EPOCH: 97\n"
     ]
    },
    {
     "name": "stderr",
     "output_type": "stream",
     "text": [
      "Loss=1782.515625 Batch_id=390: 100%|██████████| 391/391 [00:07<00:00, 55.35it/s]       \n"
     ]
    },
    {
     "name": "stdout",
     "output_type": "stream",
     "text": [
      "\n",
      "Average Training Loss=1839.4358434375\n",
      "\n",
      "EPOCH: 98\n"
     ]
    },
    {
     "name": "stderr",
     "output_type": "stream",
     "text": [
      "Loss=1862.471484375 Batch_id=390: 100%|██████████| 391/391 [00:07<00:00, 54.60it/s]    \n"
     ]
    },
    {
     "name": "stdout",
     "output_type": "stream",
     "text": [
      "\n",
      "Average Training Loss=1839.364584375\n",
      "\n",
      "EPOCH: 99\n"
     ]
    },
    {
     "name": "stderr",
     "output_type": "stream",
     "text": [
      "Loss=1868.5236328125 Batch_id=390: 100%|██████████| 391/391 [00:07<00:00, 55.38it/s]   \n"
     ]
    },
    {
     "name": "stdout",
     "output_type": "stream",
     "text": [
      "\n",
      "Average Training Loss=1839.1081996875\n",
      "\n",
      "EPOCH: 100\n"
     ]
    },
    {
     "name": "stderr",
     "output_type": "stream",
     "text": [
      "Loss=1870.774609375 Batch_id=390: 100%|██████████| 391/391 [00:07<00:00, 55.48it/s]    "
     ]
    },
    {
     "name": "stdout",
     "output_type": "stream",
     "text": [
      "\n",
      "Average Training Loss=1838.7216046875\n"
     ]
    },
    {
     "name": "stderr",
     "output_type": "stream",
     "text": [
      "\n"
     ]
    }
   ],
   "source": [
    "model = VAE(3,32).to(device)\n",
    "transform = transforms.Compose([transforms.ToTensor()])\n",
    "train_set = datasets.CIFAR10(root='./data', train=True, transform=transform, download=True)\n",
    "dataset = DataSet(train_set, 32)\n",
    "epochs = 100\n",
    "batch_size = 128\n",
    "lr = 1e-3\n",
    "train(model, dataset, epochs, batch_size, lr)"
   ]
  },
  {
   "cell_type": "code",
   "execution_count": 7,
   "metadata": {},
   "outputs": [
    {
     "data": {
      "image/png": "[encoded data removed]",
      "text/plain": [
       "<Figure size 1000x2000 with 50 Axes>"
      ]
     },
     "metadata": {},
     "output_type": "display_data"
    }
   ],
   "source": [
    "cifar10_map = {\n",
    "    0: 'airplane',\n",
    "    1: 'automobile',\n",
    "    2: 'bird',\n",
    "    3: 'cat',\n",
    "    4: 'deer',\n",
    "    5: 'dog',\n",
    "    6: 'frog',\n",
    "    7: 'horse',\n",
    "    8: 'ship',\n",
    "    9: 'truck'\n",
    "}\n",
    "dataset = DataSet(train_set, 32, True)\n",
    "visualize(model, dataset, cifar10_map)"
   ]
  },
  {
   "cell_type": "code",
   "execution_count": 8,
   "metadata": {},
   "outputs": [
    {
     "name": "stdout",
     "output_type": "stream",
     "text": [
      "\n",
      "EPOCH: 1\n"
     ]
    },
    {
     "name": "stderr",
     "output_type": "stream",
     "text": [
      "Loss=131.51925659179688 Batch_id=468: 100%|██████████| 469/469 [00:07<00:00, 64.89it/s]\n"
     ]
    },
    {
     "name": "stdout",
     "output_type": "stream",
     "text": [
      "\n",
      "Average Training Loss=155.32242364908853\n",
      "\n",
      "EPOCH: 2\n"
     ]
    },
    {
     "name": "stderr",
     "output_type": "stream",
     "text": [
      "Loss=114.10709635416667 Batch_id=468: 100%|██████████| 469/469 [00:06<00:00, 71.26it/s]\n"
     ]
    },
    {
     "name": "stdout",
     "output_type": "stream",
     "text": [
      "\n",
      "Average Training Loss=120.45333766276042\n",
      "\n",
      "EPOCH: 3\n"
     ]
    },
    {
     "name": "stderr",
     "output_type": "stream",
     "text": [
      "Loss=110.31685384114583 Batch_id=468: 100%|██████████| 469/469 [00:06<00:00, 71.78it/s]\n"
     ]
    },
    {
     "name": "stdout",
     "output_type": "stream",
     "text": [
      "\n",
      "Average Training Loss=109.96031829427083\n",
      "\n",
      "EPOCH: 4\n"
     ]
    },
    {
     "name": "stderr",
     "output_type": "stream",
     "text": [
      "Loss=114.7867431640625 Batch_id=468: 100%|██████████| 469/469 [00:06<00:00, 70.84it/s] \n"
     ]
    },
    {
     "name": "stdout",
     "output_type": "stream",
     "text": [
      "\n",
      "Average Training Loss=106.21556658528645\n",
      "\n",
      "EPOCH: 5\n"
     ]
    },
    {
     "name": "stderr",
     "output_type": "stream",
     "text": [
      "Loss=107.53074137369792 Batch_id=468: 100%|██████████| 469/469 [00:06<00:00, 71.73it/s]\n"
     ]
    },
    {
     "name": "stdout",
     "output_type": "stream",
     "text": [
      "\n",
      "Average Training Loss=103.87135201822916\n",
      "\n",
      "EPOCH: 6\n"
     ]
    },
    {
     "name": "stderr",
     "output_type": "stream",
     "text": [
      "Loss=100.25904337565105 Batch_id=468: 100%|██████████| 469/469 [00:06<00:00, 69.77it/s]\n"
     ]
    },
    {
     "name": "stdout",
     "output_type": "stream",
     "text": [
      "\n",
      "Average Training Loss=102.30897210286459\n",
      "\n",
      "EPOCH: 7\n"
     ]
    },
    {
     "name": "stderr",
     "output_type": "stream",
     "text": [
      "Loss=101.87113444010417 Batch_id=468: 100%|██████████| 469/469 [00:07<00:00, 66.57it/s]\n"
     ]
    },
    {
     "name": "stdout",
     "output_type": "stream",
     "text": [
      "\n",
      "Average Training Loss=101.32786160481771\n",
      "\n",
      "EPOCH: 8\n"
     ]
    },
    {
     "name": "stderr",
     "output_type": "stream",
     "text": [
      "Loss=97.1564229329427 Batch_id=468: 100%|██████████| 469/469 [00:06<00:00, 68.45it/s]  \n"
     ]
    },
    {
     "name": "stdout",
     "output_type": "stream",
     "text": [
      "\n",
      "Average Training Loss=100.29293422851562\n",
      "\n",
      "EPOCH: 9\n"
     ]
    },
    {
     "name": "stderr",
     "output_type": "stream",
     "text": [
      "Loss=98.3432108561198 Batch_id=468: 100%|██████████| 469/469 [00:06<00:00, 68.91it/s]  \n"
     ]
    },
    {
     "name": "stdout",
     "output_type": "stream",
     "text": [
      "\n",
      "Average Training Loss=99.5570145670573\n",
      "\n",
      "EPOCH: 10\n"
     ]
    },
    {
     "name": "stderr",
     "output_type": "stream",
     "text": [
      "Loss=99.82520548502605 Batch_id=468: 100%|██████████| 469/469 [00:06<00:00, 67.20it/s] \n"
     ]
    },
    {
     "name": "stdout",
     "output_type": "stream",
     "text": [
      "\n",
      "Average Training Loss=99.10405236002605\n",
      "\n",
      "EPOCH: 11\n"
     ]
    },
    {
     "name": "stderr",
     "output_type": "stream",
     "text": [
      "Loss=93.66482543945312 Batch_id=468: 100%|██████████| 469/469 [00:06<00:00, 67.57it/s] \n"
     ]
    },
    {
     "name": "stdout",
     "output_type": "stream",
     "text": [
      "\n",
      "Average Training Loss=98.7296938639323\n",
      "\n",
      "EPOCH: 12\n"
     ]
    },
    {
     "name": "stderr",
     "output_type": "stream",
     "text": [
      "Loss=94.03539021809895 Batch_id=468: 100%|██████████| 469/469 [00:07<00:00, 66.49it/s] \n"
     ]
    },
    {
     "name": "stdout",
     "output_type": "stream",
     "text": [
      "\n",
      "Average Training Loss=98.08954202473959\n",
      "\n",
      "EPOCH: 13\n"
     ]
    },
    {
     "name": "stderr",
     "output_type": "stream",
     "text": [
      "Loss=97.09054565429688 Batch_id=468: 100%|██████████| 469/469 [00:06<00:00, 69.22it/s] \n"
     ]
    },
    {
     "name": "stdout",
     "output_type": "stream",
     "text": [
      "\n",
      "Average Training Loss=97.84582677408854\n",
      "\n",
      "EPOCH: 14\n"
     ]
    },
    {
     "name": "stderr",
     "output_type": "stream",
     "text": [
      "Loss=98.31840006510417 Batch_id=468: 100%|██████████| 469/469 [00:06<00:00, 75.83it/s] \n"
     ]
    },
    {
     "name": "stdout",
     "output_type": "stream",
     "text": [
      "\n",
      "Average Training Loss=97.47248551432291\n",
      "\n",
      "EPOCH: 15\n"
     ]
    },
    {
     "name": "stderr",
     "output_type": "stream",
     "text": [
      "Loss=100.99819946289062 Batch_id=468: 100%|██████████| 469/469 [00:06<00:00, 67.87it/s]\n"
     ]
    },
    {
     "name": "stdout",
     "output_type": "stream",
     "text": [
      "\n",
      "Average Training Loss=97.15706337890624\n",
      "\n",
      "EPOCH: 16\n"
     ]
    },
    {
     "name": "stderr",
     "output_type": "stream",
     "text": [
      "Loss=99.14408365885417 Batch_id=468: 100%|██████████| 469/469 [00:06<00:00, 69.38it/s] \n"
     ]
    },
    {
     "name": "stdout",
     "output_type": "stream",
     "text": [
      "\n",
      "Average Training Loss=96.80983336588541\n",
      "\n",
      "EPOCH: 17\n"
     ]
    },
    {
     "name": "stderr",
     "output_type": "stream",
     "text": [
      "Loss=93.3175048828125 Batch_id=468: 100%|██████████| 469/469 [00:06<00:00, 75.60it/s]  \n"
     ]
    },
    {
     "name": "stdout",
     "output_type": "stream",
     "text": [
      "\n",
      "Average Training Loss=96.55790541992188\n",
      "\n",
      "EPOCH: 18\n"
     ]
    },
    {
     "name": "stderr",
     "output_type": "stream",
     "text": [
      "Loss=100.387939453125 Batch_id=468: 100%|██████████| 469/469 [00:06<00:00, 75.16it/s]  \n"
     ]
    },
    {
     "name": "stdout",
     "output_type": "stream",
     "text": [
      "\n",
      "Average Training Loss=96.39269396158855\n",
      "\n",
      "EPOCH: 19\n"
     ]
    },
    {
     "name": "stderr",
     "output_type": "stream",
     "text": [
      "Loss=93.2943115234375 Batch_id=468: 100%|██████████| 469/469 [00:06<00:00, 72.83it/s]  \n"
     ]
    },
    {
     "name": "stdout",
     "output_type": "stream",
     "text": [
      "\n",
      "Average Training Loss=96.02435226236979\n",
      "\n",
      "EPOCH: 20\n"
     ]
    },
    {
     "name": "stderr",
     "output_type": "stream",
     "text": [
      "Loss=93.4826151529948 Batch_id=468: 100%|██████████| 469/469 [00:06<00:00, 69.18it/s]  \n"
     ]
    },
    {
     "name": "stdout",
     "output_type": "stream",
     "text": [
      "\n",
      "Average Training Loss=95.87852127278646\n",
      "\n",
      "EPOCH: 21\n"
     ]
    },
    {
     "name": "stderr",
     "output_type": "stream",
     "text": [
      "Loss=94.12381998697917 Batch_id=468: 100%|██████████| 469/469 [00:06<00:00, 67.77it/s] \n"
     ]
    },
    {
     "name": "stdout",
     "output_type": "stream",
     "text": [
      "\n",
      "Average Training Loss=95.52165083007813\n",
      "\n",
      "EPOCH: 22\n"
     ]
    },
    {
     "name": "stderr",
     "output_type": "stream",
     "text": [
      "Loss=96.50027465820312 Batch_id=468: 100%|██████████| 469/469 [00:07<00:00, 63.52it/s] \n"
     ]
    },
    {
     "name": "stdout",
     "output_type": "stream",
     "text": [
      "\n",
      "Average Training Loss=95.44564440104166\n",
      "\n",
      "EPOCH: 23\n"
     ]
    },
    {
     "name": "stderr",
     "output_type": "stream",
     "text": [
      "Loss=95.75687662760417 Batch_id=468: 100%|██████████| 469/469 [00:07<00:00, 64.66it/s] \n"
     ]
    },
    {
     "name": "stdout",
     "output_type": "stream",
     "text": [
      "\n",
      "Average Training Loss=95.14730402018229\n",
      "\n",
      "EPOCH: 24\n"
     ]
    },
    {
     "name": "stderr",
     "output_type": "stream",
     "text": [
      "Loss=91.3175760904948 Batch_id=468: 100%|██████████| 469/469 [00:07<00:00, 64.04it/s]  \n"
     ]
    },
    {
     "name": "stdout",
     "output_type": "stream",
     "text": [
      "\n",
      "Average Training Loss=95.00055073242187\n",
      "\n",
      "EPOCH: 25\n"
     ]
    },
    {
     "name": "stderr",
     "output_type": "stream",
     "text": [
      "Loss=97.90833536783855 Batch_id=468: 100%|██████████| 469/469 [00:06<00:00, 70.21it/s] \n"
     ]
    },
    {
     "name": "stdout",
     "output_type": "stream",
     "text": [
      "\n",
      "Average Training Loss=94.83868002929688\n",
      "\n",
      "EPOCH: 26\n"
     ]
    },
    {
     "name": "stderr",
     "output_type": "stream",
     "text": [
      "Loss=95.78656005859375 Batch_id=468: 100%|██████████| 469/469 [00:06<00:00, 74.98it/s] \n"
     ]
    },
    {
     "name": "stdout",
     "output_type": "stream",
     "text": [
      "\n",
      "Average Training Loss=94.74681725260416\n",
      "\n",
      "EPOCH: 27\n"
     ]
    },
    {
     "name": "stderr",
     "output_type": "stream",
     "text": [
      "Loss=99.17709350585938 Batch_id=468: 100%|██████████| 469/469 [00:06<00:00, 73.91it/s] \n"
     ]
    },
    {
     "name": "stdout",
     "output_type": "stream",
     "text": [
      "\n",
      "Average Training Loss=94.50541139322917\n",
      "\n",
      "EPOCH: 28\n"
     ]
    },
    {
     "name": "stderr",
     "output_type": "stream",
     "text": [
      "Loss=94.37117513020833 Batch_id=468: 100%|██████████| 469/469 [00:06<00:00, 74.37it/s]\n"
     ]
    },
    {
     "name": "stdout",
     "output_type": "stream",
     "text": [
      "\n",
      "Average Training Loss=94.33333175455729\n",
      "\n",
      "EPOCH: 29\n"
     ]
    },
    {
     "name": "stderr",
     "output_type": "stream",
     "text": [
      "Loss=91.1258544921875 Batch_id=468: 100%|██████████| 469/469 [00:06<00:00, 74.55it/s]  \n"
     ]
    },
    {
     "name": "stdout",
     "output_type": "stream",
     "text": [
      "\n",
      "Average Training Loss=94.202086328125\n",
      "\n",
      "EPOCH: 30\n"
     ]
    },
    {
     "name": "stderr",
     "output_type": "stream",
     "text": [
      "Loss=95.42852783203125 Batch_id=468: 100%|██████████| 469/469 [00:06<00:00, 74.50it/s] \n"
     ]
    },
    {
     "name": "stdout",
     "output_type": "stream",
     "text": [
      "\n",
      "Average Training Loss=94.15148321940104\n",
      "\n",
      "EPOCH: 31\n"
     ]
    },
    {
     "name": "stderr",
     "output_type": "stream",
     "text": [
      "Loss=93.88203938802083 Batch_id=468: 100%|██████████| 469/469 [00:06<00:00, 74.02it/s] \n"
     ]
    },
    {
     "name": "stdout",
     "output_type": "stream",
     "text": [
      "\n",
      "Average Training Loss=94.05853486328125\n",
      "\n",
      "EPOCH: 32\n"
     ]
    },
    {
     "name": "stderr",
     "output_type": "stream",
     "text": [
      "Loss=97.16849772135417 Batch_id=468: 100%|██████████| 469/469 [00:06<00:00, 74.57it/s] \n"
     ]
    },
    {
     "name": "stdout",
     "output_type": "stream",
     "text": [
      "\n",
      "Average Training Loss=93.68429046223959\n",
      "\n",
      "EPOCH: 33\n"
     ]
    },
    {
     "name": "stderr",
     "output_type": "stream",
     "text": [
      "Loss=90.74664306640625 Batch_id=468: 100%|██████████| 469/469 [00:06<00:00, 73.42it/s] \n"
     ]
    },
    {
     "name": "stdout",
     "output_type": "stream",
     "text": [
      "\n",
      "Average Training Loss=93.77541411132813\n",
      "\n",
      "EPOCH: 34\n"
     ]
    },
    {
     "name": "stderr",
     "output_type": "stream",
     "text": [
      "Loss=95.9739481608073 Batch_id=468: 100%|██████████| 469/469 [00:06<00:00, 71.73it/s]  \n"
     ]
    },
    {
     "name": "stdout",
     "output_type": "stream",
     "text": [
      "\n",
      "Average Training Loss=93.57769609375\n",
      "\n",
      "EPOCH: 35\n"
     ]
    },
    {
     "name": "stderr",
     "output_type": "stream",
     "text": [
      "Loss=93.616455078125 Batch_id=468: 100%|██████████| 469/469 [00:06<00:00, 68.51it/s]   \n"
     ]
    },
    {
     "name": "stdout",
     "output_type": "stream",
     "text": [
      "\n",
      "Average Training Loss=93.44320706380208\n",
      "\n",
      "EPOCH: 36\n"
     ]
    },
    {
     "name": "stderr",
     "output_type": "stream",
     "text": [
      "Loss=98.98389689127605 Batch_id=468: 100%|██████████| 469/469 [00:06<00:00, 67.21it/s]\n"
     ]
    },
    {
     "name": "stdout",
     "output_type": "stream",
     "text": [
      "\n",
      "Average Training Loss=93.30646632486979\n",
      "\n",
      "EPOCH: 37\n"
     ]
    },
    {
     "name": "stderr",
     "output_type": "stream",
     "text": [
      "Loss=91.31646728515625 Batch_id=468: 100%|██████████| 469/469 [00:06<00:00, 67.56it/s] \n"
     ]
    },
    {
     "name": "stdout",
     "output_type": "stream",
     "text": [
      "\n",
      "Average Training Loss=93.24853206380209\n",
      "\n",
      "EPOCH: 38\n"
     ]
    },
    {
     "name": "stderr",
     "output_type": "stream",
     "text": [
      "Loss=93.68048095703125 Batch_id=468: 100%|██████████| 469/469 [00:07<00:00, 66.99it/s] \n"
     ]
    },
    {
     "name": "stdout",
     "output_type": "stream",
     "text": [
      "\n",
      "Average Training Loss=93.20417019856771\n",
      "\n",
      "EPOCH: 39\n"
     ]
    },
    {
     "name": "stderr",
     "output_type": "stream",
     "text": [
      "Loss=93.60239664713542 Batch_id=468: 100%|██████████| 469/469 [00:06<00:00, 68.51it/s] \n"
     ]
    },
    {
     "name": "stdout",
     "output_type": "stream",
     "text": [
      "\n",
      "Average Training Loss=92.98165994466146\n",
      "\n",
      "EPOCH: 40\n"
     ]
    },
    {
     "name": "stderr",
     "output_type": "stream",
     "text": [
      "Loss=90.0592041015625 Batch_id=468: 100%|██████████| 469/469 [00:07<00:00, 64.45it/s]  \n"
     ]
    },
    {
     "name": "stdout",
     "output_type": "stream",
     "text": [
      "\n",
      "Average Training Loss=92.96010027669271\n",
      "\n",
      "EPOCH: 41\n"
     ]
    },
    {
     "name": "stderr",
     "output_type": "stream",
     "text": [
      "Loss=95.31034342447917 Batch_id=468: 100%|██████████| 469/469 [00:06<00:00, 67.55it/s]\n"
     ]
    },
    {
     "name": "stdout",
     "output_type": "stream",
     "text": [
      "\n",
      "Average Training Loss=92.7969246907552\n",
      "\n",
      "EPOCH: 42\n"
     ]
    },
    {
     "name": "stderr",
     "output_type": "stream",
     "text": [
      "Loss=90.37618001302083 Batch_id=468: 100%|██████████| 469/469 [00:06<00:00, 70.61it/s] \n"
     ]
    },
    {
     "name": "stdout",
     "output_type": "stream",
     "text": [
      "\n",
      "Average Training Loss=92.739435546875\n",
      "\n",
      "EPOCH: 43\n"
     ]
    },
    {
     "name": "stderr",
     "output_type": "stream",
     "text": [
      "Loss=95.89771525065105 Batch_id=468: 100%|██████████| 469/469 [00:06<00:00, 75.65it/s] \n"
     ]
    },
    {
     "name": "stdout",
     "output_type": "stream",
     "text": [
      "\n",
      "Average Training Loss=92.60805823567708\n",
      "\n",
      "EPOCH: 44\n"
     ]
    },
    {
     "name": "stderr",
     "output_type": "stream",
     "text": [
      "Loss=90.34307861328125 Batch_id=468: 100%|██████████| 469/469 [00:06<00:00, 72.99it/s]\n"
     ]
    },
    {
     "name": "stdout",
     "output_type": "stream",
     "text": [
      "\n",
      "Average Training Loss=92.50563299153646\n",
      "\n",
      "EPOCH: 45\n"
     ]
    },
    {
     "name": "stderr",
     "output_type": "stream",
     "text": [
      "Loss=93.45589192708333 Batch_id=468: 100%|██████████| 469/469 [00:06<00:00, 69.56it/s]\n"
     ]
    },
    {
     "name": "stdout",
     "output_type": "stream",
     "text": [
      "\n",
      "Average Training Loss=92.40342452799479\n",
      "\n",
      "EPOCH: 46\n"
     ]
    },
    {
     "name": "stderr",
     "output_type": "stream",
     "text": [
      "Loss=89.18868001302083 Batch_id=468: 100%|██████████| 469/469 [00:06<00:00, 76.19it/s] \n"
     ]
    },
    {
     "name": "stdout",
     "output_type": "stream",
     "text": [
      "\n",
      "Average Training Loss=92.37877490234375\n",
      "\n",
      "EPOCH: 47\n"
     ]
    },
    {
     "name": "stderr",
     "output_type": "stream",
     "text": [
      "Loss=93.07614135742188 Batch_id=468: 100%|██████████| 469/469 [00:06<00:00, 76.84it/s]\n"
     ]
    },
    {
     "name": "stdout",
     "output_type": "stream",
     "text": [
      "\n",
      "Average Training Loss=92.24367014973959\n",
      "\n",
      "EPOCH: 48\n"
     ]
    },
    {
     "name": "stderr",
     "output_type": "stream",
     "text": [
      "Loss=90.5043233235677 Batch_id=468: 100%|██████████| 469/469 [00:06<00:00, 76.44it/s] \n"
     ]
    },
    {
     "name": "stdout",
     "output_type": "stream",
     "text": [
      "\n",
      "Average Training Loss=92.14704360351563\n",
      "\n",
      "EPOCH: 49\n"
     ]
    },
    {
     "name": "stderr",
     "output_type": "stream",
     "text": [
      "Loss=90.53715006510417 Batch_id=468: 100%|██████████| 469/469 [00:06<00:00, 76.40it/s] \n"
     ]
    },
    {
     "name": "stdout",
     "output_type": "stream",
     "text": [
      "\n",
      "Average Training Loss=92.18417180989583\n",
      "\n",
      "EPOCH: 50\n"
     ]
    },
    {
     "name": "stderr",
     "output_type": "stream",
     "text": [
      "Loss=92.54996744791667 Batch_id=468: 100%|██████████| 469/469 [00:06<00:00, 69.37it/s]\n"
     ]
    },
    {
     "name": "stdout",
     "output_type": "stream",
     "text": [
      "\n",
      "Average Training Loss=91.99207631835938\n",
      "\n",
      "EPOCH: 51\n"
     ]
    },
    {
     "name": "stderr",
     "output_type": "stream",
     "text": [
      "Loss=91.40167236328125 Batch_id=468: 100%|██████████| 469/469 [00:06<00:00, 68.21it/s]\n"
     ]
    },
    {
     "name": "stdout",
     "output_type": "stream",
     "text": [
      "\n",
      "Average Training Loss=91.91476197916667\n",
      "\n",
      "EPOCH: 52\n"
     ]
    },
    {
     "name": "stderr",
     "output_type": "stream",
     "text": [
      "Loss=93.15282185872395 Batch_id=468: 100%|██████████| 469/469 [00:06<00:00, 70.05it/s]\n"
     ]
    },
    {
     "name": "stdout",
     "output_type": "stream",
     "text": [
      "\n",
      "Average Training Loss=91.8143909342448\n",
      "\n",
      "EPOCH: 53\n"
     ]
    },
    {
     "name": "stderr",
     "output_type": "stream",
     "text": [
      "Loss=90.576904296875 Batch_id=468: 100%|██████████| 469/469 [00:06<00:00, 72.69it/s]  \n"
     ]
    },
    {
     "name": "stdout",
     "output_type": "stream",
     "text": [
      "\n",
      "Average Training Loss=91.83587963867187\n",
      "\n",
      "EPOCH: 54\n"
     ]
    },
    {
     "name": "stderr",
     "output_type": "stream",
     "text": [
      "Loss=93.92630004882812 Batch_id=468: 100%|██████████| 469/469 [00:06<00:00, 67.05it/s]\n"
     ]
    },
    {
     "name": "stdout",
     "output_type": "stream",
     "text": [
      "\n",
      "Average Training Loss=91.7080485514323\n",
      "\n",
      "EPOCH: 55\n"
     ]
    },
    {
     "name": "stderr",
     "output_type": "stream",
     "text": [
      "Loss=92.07340494791667 Batch_id=468: 100%|██████████| 469/469 [00:06<00:00, 68.22it/s] \n"
     ]
    },
    {
     "name": "stdout",
     "output_type": "stream",
     "text": [
      "\n",
      "Average Training Loss=91.637928125\n",
      "\n",
      "EPOCH: 56\n"
     ]
    },
    {
     "name": "stderr",
     "output_type": "stream",
     "text": [
      "Loss=95.58131917317708 Batch_id=468: 100%|██████████| 469/469 [00:06<00:00, 68.09it/s]\n"
     ]
    },
    {
     "name": "stdout",
     "output_type": "stream",
     "text": [
      "\n",
      "Average Training Loss=91.62477986653646\n",
      "\n",
      "EPOCH: 57\n"
     ]
    },
    {
     "name": "stderr",
     "output_type": "stream",
     "text": [
      "Loss=93.67378743489583 Batch_id=468: 100%|██████████| 469/469 [00:06<00:00, 76.57it/s]\n"
     ]
    },
    {
     "name": "stdout",
     "output_type": "stream",
     "text": [
      "\n",
      "Average Training Loss=91.49788561197917\n",
      "\n",
      "EPOCH: 58\n"
     ]
    },
    {
     "name": "stderr",
     "output_type": "stream",
     "text": [
      "Loss=93.3429667154948 Batch_id=468: 100%|██████████| 469/469 [00:06<00:00, 77.16it/s] \n"
     ]
    },
    {
     "name": "stdout",
     "output_type": "stream",
     "text": [
      "\n",
      "Average Training Loss=91.37050787760417\n",
      "\n",
      "EPOCH: 59\n"
     ]
    },
    {
     "name": "stderr",
     "output_type": "stream",
     "text": [
      "Loss=93.14312744140625 Batch_id=468: 100%|██████████| 469/469 [00:06<00:00, 76.67it/s]\n"
     ]
    },
    {
     "name": "stdout",
     "output_type": "stream",
     "text": [
      "\n",
      "Average Training Loss=91.37172970377604\n",
      "\n",
      "EPOCH: 60\n"
     ]
    },
    {
     "name": "stderr",
     "output_type": "stream",
     "text": [
      "Loss=90.88742065429688 Batch_id=468: 100%|██████████| 469/469 [00:06<00:00, 76.08it/s]\n"
     ]
    },
    {
     "name": "stdout",
     "output_type": "stream",
     "text": [
      "\n",
      "Average Training Loss=91.3238251953125\n",
      "\n",
      "EPOCH: 61\n"
     ]
    },
    {
     "name": "stderr",
     "output_type": "stream",
     "text": [
      "Loss=92.6564229329427 Batch_id=468: 100%|██████████| 469/469 [00:06<00:00, 72.47it/s]  \n"
     ]
    },
    {
     "name": "stdout",
     "output_type": "stream",
     "text": [
      "\n",
      "Average Training Loss=91.2625208984375\n",
      "\n",
      "EPOCH: 62\n"
     ]
    },
    {
     "name": "stderr",
     "output_type": "stream",
     "text": [
      "Loss=97.52459716796875 Batch_id=468: 100%|██████████| 469/469 [00:06<00:00, 73.44it/s]\n"
     ]
    },
    {
     "name": "stdout",
     "output_type": "stream",
     "text": [
      "\n",
      "Average Training Loss=91.18109837239584\n",
      "\n",
      "EPOCH: 63\n"
     ]
    },
    {
     "name": "stderr",
     "output_type": "stream",
     "text": [
      "Loss=94.73846435546875 Batch_id=468: 100%|██████████| 469/469 [00:06<00:00, 68.47it/s]\n"
     ]
    },
    {
     "name": "stdout",
     "output_type": "stream",
     "text": [
      "\n",
      "Average Training Loss=91.10434275716146\n",
      "\n",
      "EPOCH: 64\n"
     ]
    },
    {
     "name": "stderr",
     "output_type": "stream",
     "text": [
      "Loss=91.5367431640625 Batch_id=468: 100%|██████████| 469/469 [00:07<00:00, 66.99it/s] \n"
     ]
    },
    {
     "name": "stdout",
     "output_type": "stream",
     "text": [
      "\n",
      "Average Training Loss=91.11347055664062\n",
      "\n",
      "EPOCH: 65\n"
     ]
    },
    {
     "name": "stderr",
     "output_type": "stream",
     "text": [
      "Loss=93.70987955729167 Batch_id=468: 100%|██████████| 469/469 [00:06<00:00, 68.17it/s]\n"
     ]
    },
    {
     "name": "stdout",
     "output_type": "stream",
     "text": [
      "\n",
      "Average Training Loss=90.93698097330729\n",
      "\n",
      "EPOCH: 66\n"
     ]
    },
    {
     "name": "stderr",
     "output_type": "stream",
     "text": [
      "Loss=91.1123046875 Batch_id=468: 100%|██████████| 469/469 [00:06<00:00, 69.25it/s]    \n"
     ]
    },
    {
     "name": "stdout",
     "output_type": "stream",
     "text": [
      "\n",
      "Average Training Loss=90.99584104817708\n",
      "\n",
      "EPOCH: 67\n"
     ]
    },
    {
     "name": "stderr",
     "output_type": "stream",
     "text": [
      "Loss=94.75576782226562 Batch_id=468: 100%|██████████| 469/469 [00:06<00:00, 67.86it/s]\n"
     ]
    },
    {
     "name": "stdout",
     "output_type": "stream",
     "text": [
      "\n",
      "Average Training Loss=90.86087921549479\n",
      "\n",
      "EPOCH: 68\n"
     ]
    },
    {
     "name": "stderr",
     "output_type": "stream",
     "text": [
      "Loss=92.8743387858073 Batch_id=468: 100%|██████████| 469/469 [00:06<00:00, 67.52it/s] \n"
     ]
    },
    {
     "name": "stdout",
     "output_type": "stream",
     "text": [
      "\n",
      "Average Training Loss=90.875471484375\n",
      "\n",
      "EPOCH: 69\n"
     ]
    },
    {
     "name": "stderr",
     "output_type": "stream",
     "text": [
      "Loss=91.01312255859375 Batch_id=468: 100%|██████████| 469/469 [00:06<00:00, 67.91it/s]\n"
     ]
    },
    {
     "name": "stdout",
     "output_type": "stream",
     "text": [
      "\n",
      "Average Training Loss=90.70156360677083\n",
      "\n",
      "EPOCH: 70\n"
     ]
    },
    {
     "name": "stderr",
     "output_type": "stream",
     "text": [
      "Loss=92.6162109375 Batch_id=468: 100%|██████████| 469/469 [00:07<00:00, 66.17it/s]    \n"
     ]
    },
    {
     "name": "stdout",
     "output_type": "stream",
     "text": [
      "\n",
      "Average Training Loss=90.74277386067709\n",
      "\n",
      "EPOCH: 71\n"
     ]
    },
    {
     "name": "stderr",
     "output_type": "stream",
     "text": [
      "Loss=87.67622884114583 Batch_id=468: 100%|██████████| 469/469 [00:06<00:00, 74.19it/s]\n"
     ]
    },
    {
     "name": "stdout",
     "output_type": "stream",
     "text": [
      "\n",
      "Average Training Loss=90.67857013346354\n",
      "\n",
      "EPOCH: 72\n"
     ]
    },
    {
     "name": "stderr",
     "output_type": "stream",
     "text": [
      "Loss=94.47166951497395 Batch_id=468: 100%|██████████| 469/469 [00:06<00:00, 76.03it/s]\n"
     ]
    },
    {
     "name": "stdout",
     "output_type": "stream",
     "text": [
      "\n",
      "Average Training Loss=90.55321168619791\n",
      "\n",
      "EPOCH: 73\n"
     ]
    },
    {
     "name": "stderr",
     "output_type": "stream",
     "text": [
      "Loss=89.30609130859375 Batch_id=468: 100%|██████████| 469/469 [00:06<00:00, 76.64it/s]\n"
     ]
    },
    {
     "name": "stdout",
     "output_type": "stream",
     "text": [
      "\n",
      "Average Training Loss=90.54989246419271\n",
      "\n",
      "EPOCH: 74\n"
     ]
    },
    {
     "name": "stderr",
     "output_type": "stream",
     "text": [
      "Loss=89.05021158854167 Batch_id=468: 100%|██████████| 469/469 [00:06<00:00, 72.40it/s]\n"
     ]
    },
    {
     "name": "stdout",
     "output_type": "stream",
     "text": [
      "\n",
      "Average Training Loss=90.53874532877605\n",
      "\n",
      "EPOCH: 75\n"
     ]
    },
    {
     "name": "stderr",
     "output_type": "stream",
     "text": [
      "Loss=90.96170043945312 Batch_id=468: 100%|██████████| 469/469 [00:06<00:00, 67.37it/s]\n"
     ]
    },
    {
     "name": "stdout",
     "output_type": "stream",
     "text": [
      "\n",
      "Average Training Loss=90.45301028645834\n",
      "\n",
      "EPOCH: 76\n"
     ]
    },
    {
     "name": "stderr",
     "output_type": "stream",
     "text": [
      "Loss=89.49770100911458 Batch_id=468: 100%|██████████| 469/469 [00:07<00:00, 63.48it/s]\n"
     ]
    },
    {
     "name": "stdout",
     "output_type": "stream",
     "text": [
      "\n",
      "Average Training Loss=90.45925152994792\n",
      "\n",
      "EPOCH: 77\n"
     ]
    },
    {
     "name": "stderr",
     "output_type": "stream",
     "text": [
      "Loss=89.4092305501302 Batch_id=468: 100%|██████████| 469/469 [00:06<00:00, 71.56it/s] \n"
     ]
    },
    {
     "name": "stdout",
     "output_type": "stream",
     "text": [
      "\n",
      "Average Training Loss=90.33992568359375\n",
      "\n",
      "EPOCH: 78\n"
     ]
    },
    {
     "name": "stderr",
     "output_type": "stream",
     "text": [
      "Loss=93.07523600260417 Batch_id=468: 100%|██████████| 469/469 [00:06<00:00, 70.28it/s]\n"
     ]
    },
    {
     "name": "stdout",
     "output_type": "stream",
     "text": [
      "\n",
      "Average Training Loss=90.28023444010417\n",
      "\n",
      "EPOCH: 79\n"
     ]
    },
    {
     "name": "stderr",
     "output_type": "stream",
     "text": [
      "Loss=91.93180338541667 Batch_id=468: 100%|██████████| 469/469 [00:07<00:00, 65.74it/s]\n"
     ]
    },
    {
     "name": "stdout",
     "output_type": "stream",
     "text": [
      "\n",
      "Average Training Loss=90.19833766276042\n",
      "\n",
      "EPOCH: 80\n"
     ]
    },
    {
     "name": "stderr",
     "output_type": "stream",
     "text": [
      "Loss=92.38219197591145 Batch_id=468: 100%|██████████| 469/469 [00:07<00:00, 63.91it/s]\n"
     ]
    },
    {
     "name": "stdout",
     "output_type": "stream",
     "text": [
      "\n",
      "Average Training Loss=90.18368686523438\n",
      "\n",
      "EPOCH: 81\n"
     ]
    },
    {
     "name": "stderr",
     "output_type": "stream",
     "text": [
      "Loss=88.7333475748698 Batch_id=468: 100%|██████████| 469/469 [00:07<00:00, 64.07it/s] \n"
     ]
    },
    {
     "name": "stdout",
     "output_type": "stream",
     "text": [
      "\n",
      "Average Training Loss=90.19128824869792\n",
      "\n",
      "EPOCH: 82\n"
     ]
    },
    {
     "name": "stderr",
     "output_type": "stream",
     "text": [
      "Loss=90.17307535807292 Batch_id=468: 100%|██████████| 469/469 [00:07<00:00, 66.39it/s]\n"
     ]
    },
    {
     "name": "stdout",
     "output_type": "stream",
     "text": [
      "\n",
      "Average Training Loss=90.0145633951823\n",
      "\n",
      "EPOCH: 83\n"
     ]
    },
    {
     "name": "stderr",
     "output_type": "stream",
     "text": [
      "Loss=89.677001953125 Batch_id=468: 100%|██████████| 469/469 [00:06<00:00, 67.42it/s]  \n"
     ]
    },
    {
     "name": "stdout",
     "output_type": "stream",
     "text": [
      "\n",
      "Average Training Loss=90.08671508789062\n",
      "\n",
      "EPOCH: 84\n"
     ]
    },
    {
     "name": "stderr",
     "output_type": "stream",
     "text": [
      "Loss=89.17732747395833 Batch_id=468: 100%|██████████| 469/469 [00:06<00:00, 70.60it/s]\n"
     ]
    },
    {
     "name": "stdout",
     "output_type": "stream",
     "text": [
      "\n",
      "Average Training Loss=90.03568745117188\n",
      "\n",
      "EPOCH: 85\n"
     ]
    },
    {
     "name": "stderr",
     "output_type": "stream",
     "text": [
      "Loss=89.7008056640625 Batch_id=468: 100%|██████████| 469/469 [00:06<00:00, 69.20it/s] \n"
     ]
    },
    {
     "name": "stdout",
     "output_type": "stream",
     "text": [
      "\n",
      "Average Training Loss=89.99361778971354\n",
      "\n",
      "EPOCH: 86\n"
     ]
    },
    {
     "name": "stderr",
     "output_type": "stream",
     "text": [
      "Loss=90.4065653483073 Batch_id=468: 100%|██████████| 469/469 [00:07<00:00, 64.69it/s] \n"
     ]
    },
    {
     "name": "stdout",
     "output_type": "stream",
     "text": [
      "\n",
      "Average Training Loss=89.9992005045573\n",
      "\n",
      "EPOCH: 87\n"
     ]
    },
    {
     "name": "stderr",
     "output_type": "stream",
     "text": [
      "Loss=91.78538004557292 Batch_id=468: 100%|██████████| 469/469 [00:06<00:00, 74.53it/s]\n"
     ]
    },
    {
     "name": "stdout",
     "output_type": "stream",
     "text": [
      "\n",
      "Average Training Loss=89.94559490559895\n",
      "\n",
      "EPOCH: 88\n"
     ]
    },
    {
     "name": "stderr",
     "output_type": "stream",
     "text": [
      "Loss=92.36644490559895 Batch_id=468: 100%|██████████| 469/469 [00:06<00:00, 75.62it/s]\n"
     ]
    },
    {
     "name": "stdout",
     "output_type": "stream",
     "text": [
      "\n",
      "Average Training Loss=89.80851056315105\n",
      "\n",
      "EPOCH: 89\n"
     ]
    },
    {
     "name": "stderr",
     "output_type": "stream",
     "text": [
      "Loss=89.20119222005208 Batch_id=468: 100%|██████████| 469/469 [00:06<00:00, 73.93it/s]\n"
     ]
    },
    {
     "name": "stdout",
     "output_type": "stream",
     "text": [
      "\n",
      "Average Training Loss=89.73671774088541\n",
      "\n",
      "EPOCH: 90\n"
     ]
    },
    {
     "name": "stderr",
     "output_type": "stream",
     "text": [
      "Loss=89.18187459309895 Batch_id=468: 100%|██████████| 469/469 [00:06<00:00, 69.99it/s] \n"
     ]
    },
    {
     "name": "stdout",
     "output_type": "stream",
     "text": [
      "\n",
      "Average Training Loss=89.703521875\n",
      "\n",
      "EPOCH: 91\n"
     ]
    },
    {
     "name": "stderr",
     "output_type": "stream",
     "text": [
      "Loss=91.73656209309895 Batch_id=468: 100%|██████████| 469/469 [00:06<00:00, 74.66it/s]\n"
     ]
    },
    {
     "name": "stdout",
     "output_type": "stream",
     "text": [
      "\n",
      "Average Training Loss=89.70294404296875\n",
      "\n",
      "EPOCH: 92\n"
     ]
    },
    {
     "name": "stderr",
     "output_type": "stream",
     "text": [
      "Loss=87.2091776529948 Batch_id=468: 100%|██████████| 469/469 [00:06<00:00, 72.79it/s] \n"
     ]
    },
    {
     "name": "stdout",
     "output_type": "stream",
     "text": [
      "\n",
      "Average Training Loss=89.6668946451823\n",
      "\n",
      "EPOCH: 93\n"
     ]
    },
    {
     "name": "stderr",
     "output_type": "stream",
     "text": [
      "Loss=86.3350118001302 Batch_id=468: 100%|██████████| 469/469 [00:06<00:00, 74.02it/s] \n"
     ]
    },
    {
     "name": "stdout",
     "output_type": "stream",
     "text": [
      "\n",
      "Average Training Loss=89.62882923177084\n",
      "\n",
      "EPOCH: 94\n"
     ]
    },
    {
     "name": "stderr",
     "output_type": "stream",
     "text": [
      "Loss=90.69986979166667 Batch_id=468: 100%|██████████| 469/469 [00:06<00:00, 72.32it/s]\n"
     ]
    },
    {
     "name": "stdout",
     "output_type": "stream",
     "text": [
      "\n",
      "Average Training Loss=89.5545735514323\n",
      "\n",
      "EPOCH: 95\n"
     ]
    },
    {
     "name": "stderr",
     "output_type": "stream",
     "text": [
      "Loss=88.87490844726562 Batch_id=468: 100%|██████████| 469/469 [00:06<00:00, 74.53it/s]\n"
     ]
    },
    {
     "name": "stdout",
     "output_type": "stream",
     "text": [
      "\n",
      "Average Training Loss=89.51369736328125\n",
      "\n",
      "EPOCH: 96\n"
     ]
    },
    {
     "name": "stderr",
     "output_type": "stream",
     "text": [
      "Loss=91.13327026367188 Batch_id=468: 100%|██████████| 469/469 [00:06<00:00, 73.56it/s]\n"
     ]
    },
    {
     "name": "stdout",
     "output_type": "stream",
     "text": [
      "\n",
      "Average Training Loss=89.46704737955729\n",
      "\n",
      "EPOCH: 97\n"
     ]
    },
    {
     "name": "stderr",
     "output_type": "stream",
     "text": [
      "Loss=88.89546712239583 Batch_id=468: 100%|██████████| 469/469 [00:06<00:00, 73.11it/s]\n"
     ]
    },
    {
     "name": "stdout",
     "output_type": "stream",
     "text": [
      "\n",
      "Average Training Loss=89.35357928059896\n",
      "\n",
      "EPOCH: 98\n"
     ]
    },
    {
     "name": "stderr",
     "output_type": "stream",
     "text": [
      "Loss=88.99593098958333 Batch_id=468: 100%|██████████| 469/469 [00:06<00:00, 75.98it/s]\n"
     ]
    },
    {
     "name": "stdout",
     "output_type": "stream",
     "text": [
      "\n",
      "Average Training Loss=89.38992088216146\n",
      "\n",
      "EPOCH: 99\n"
     ]
    },
    {
     "name": "stderr",
     "output_type": "stream",
     "text": [
      "Loss=94.64026896158855 Batch_id=468: 100%|██████████| 469/469 [00:06<00:00, 75.60it/s]\n"
     ]
    },
    {
     "name": "stdout",
     "output_type": "stream",
     "text": [
      "\n",
      "Average Training Loss=89.46243894856771\n",
      "\n",
      "EPOCH: 100\n"
     ]
    },
    {
     "name": "stderr",
     "output_type": "stream",
     "text": [
      "Loss=91.96370442708333 Batch_id=468: 100%|██████████| 469/469 [00:06<00:00, 72.18it/s]"
     ]
    },
    {
     "name": "stdout",
     "output_type": "stream",
     "text": [
      "\n",
      "Average Training Loss=89.34591896158854\n"
     ]
    },
    {
     "name": "stderr",
     "output_type": "stream",
     "text": [
      "\n"
     ]
    }
   ],
   "source": [
    "model = VAE(1,28).to(device)\n",
    "transform = transforms.Compose([transforms.ToTensor()])\n",
    "train_set = datasets.MNIST(root='./data', train=True, transform=transform, download=True)\n",
    "dataset = DataSet(train_set, 28)\n",
    "epochs = 100\n",
    "batch_size = 128\n",
    "lr = 1e-3\n",
    "train(model, dataset, epochs, batch_size, lr)"
   ]
  },
  {
   "cell_type": "code",
   "execution_count": 9,
   "metadata": {},
   "outputs": [
    {
     "data": {
      "image/png": "[encoded data removed]",
      "text/plain": [
       "<Figure size 1000x2000 with 50 Axes>"
      ]
     },
     "metadata": {},
     "output_type": "display_data"
    }
   ],
   "source": [
    "mnist_map = {i:i for i in range(10)}\n",
    "dataset = DataSet(train_set, 28, True)\n",
    "visualize(model, dataset, mnist_map)"
   ]
  },
  {
   "cell_type": "code",
   "execution_count": null,
   "metadata": {},
   "outputs": [],
   "source": []
  }
 ],
 "metadata": {
  "kernelspec": {
   "display_name": "Python 3",
   "language": "python",
   "name": "python3"
  },
  "language_info": {
   "codemirror_mode": {
    "name": "ipython",
    "version": 3
   },
   "file_extension": ".py",
   "mimetype": "text/x-python",
   "name": "python",
   "nbconvert_exporter": "python",
   "pygments_lexer": "ipython3",
   "version": "3.11.4"
  },
  "orig_nbformat": 4
 },
 "nbformat": 4,
 "nbformat_minor": 2
}
